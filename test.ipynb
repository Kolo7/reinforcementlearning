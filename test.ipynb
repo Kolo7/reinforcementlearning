{
 "cells": [
  {
   "cell_type": "code",
   "execution_count": 1,
   "metadata": {},
   "outputs": [],
   "source": [
    "#import matplotlib.pyplot as plt\n",
    "import math\n",
    "from RSSmodel import *\n",
    "import numpy as np\n",
    "from matplotlib import pyplot as plt\n",
    "import random\n",
    "from main import *"
   ]
  },
  {
   "cell_type": "code",
   "execution_count": null,
   "metadata": {},
   "outputs": [],
   "source": [
    "lis = []"
   ]
  },
  {
   "cell_type": "markdown",
   "metadata": {},
   "source": [
    "### 测试"
   ]
  },
  {
   "cell_type": "markdown",
   "metadata": {},
   "source": [
    "测试Env类所有公开方法。"
   ]
  },
  {
   "cell_type": "code",
   "execution_count": null,
   "metadata": {
    "scrolled": true
   },
   "outputs": [],
   "source": [
    "epoch_num = 0\n",
    "m_num = 0\n",
    "for each in range(100):\n",
    "    env = RssEnv()\n",
    "    s1,r1 = env.step(0)\n",
    "    s2,r2 = env.step(1)\n",
    "    s3,r3 = env.step(2)\n",
    "    if(r2>r1 or r3>r1):\n",
    "        m_num += 1\n",
    "    #print('the epoch {} winner is {}'.format(epoch_num, np.argmax([r1,r2,r3])))\n",
    "    #print('直接传输 状态{}，效用{}'.format(s1,r1))\n",
    "    #print('中继1传输 状态{}，效用{}'.format(s2,r2))\n",
    "    #print('中继2传输 状态{}，效用{}'.format(s3,r3))\n",
    "    #epoch_num += 1\n",
    "print('中继转发：{}'.format(m_num))"
   ]
  },
  {
   "cell_type": "code",
   "execution_count": null,
   "metadata": {},
   "outputs": [],
   "source": [
    "y = [env._g_channel_gain(x) for x in np.arange(-1,1, 0.001) ]\n",
    "plt.plot(np.arange(-1,1,0.001), y)"
   ]
  },
  {
   "cell_type": "code",
   "execution_count": null,
   "metadata": {},
   "outputs": [],
   "source": [
    "def fun1(x, y):\n",
    "    g1 = g_channel_gain(x)\n",
    "    g2 = g_channel_gain(y)\n",
    "    return 0.1*0.06*g1*g2 / (0.1*(0.1*g1 + 0.06*g2 )+ 0.01)"
   ]
  },
  {
   "cell_type": "code",
   "execution_count": null,
   "metadata": {},
   "outputs": [],
   "source": [
    "def g_channel_gain(x):\n",
    "        mu = 0\n",
    "        sigma2 = 0.16\n",
    "        y = 1.0/np.sqrt(2*math.pi*sigma2) * np.exp(-(x-mu)**2 /(2*sigma2))\n",
    "        #a = np.random.normal(mu, sigma2**0.5)\n",
    "        return y"
   ]
  },
  {
   "cell_type": "code",
   "execution_count": null,
   "metadata": {},
   "outputs": [],
   "source": [
    "x =  np.arange(-1,1,0.01)\n",
    "y = np.arange(-1,1,0.01)\n",
    "x,y = np.meshgrid(x,y)\n",
    "#z = \n",
    "ax = plt.axes(projection='3d')\n",
    "ax.plot_surface(x, y, fun1(x,y), rstride=1,cstride=1,cmap=plt.cm.spring)"
   ]
  },
  {
   "cell_type": "code",
   "execution_count": null,
   "metadata": {},
   "outputs": [],
   "source": [
    "print(env.d_point)\n",
    "ret = []\n",
    "for _ in range(3000):\n",
    "    env._d_move()\n",
    "    ret.append(env.d_point)\n",
    "plt.plot(range(3000), ret)"
   ]
  },
  {
   "cell_type": "code",
   "execution_count": 25,
   "metadata": {},
   "outputs": [],
   "source": [
    "env = RssEnv()\n",
    "agent = Agent(env)\n",
    "lists = []"
   ]
  },
  {
   "cell_type": "code",
   "execution_count": 26,
   "metadata": {},
   "outputs": [],
   "source": [
    "lists = []\n",
    "for each in range(1):\n",
    "    agent.learning(gamma=0.9, \\\n",
    "                alpha=0.1, \\\n",
    "                max_episode_num=6)\n",
    "    #agent.env._d_move()\n",
    "    lists.extend(agent.sum_utility_list)"
   ]
  },
  {
   "cell_type": "code",
   "execution_count": 27,
   "metadata": {},
   "outputs": [
    {
     "data": {
      "text/plain": [
       "<matplotlib.collections.PathCollection at 0x2842cf66688>"
      ]
     },
     "execution_count": 27,
     "metadata": {},
     "output_type": "execute_result"
    },
    {
     "data": {
      "image/png": "[encoded data removed]",
      "text/plain": [
       "<Figure size 432x288 with 1 Axes>"
      ]
     },
     "metadata": {
      "needs_background": "light"
     },
     "output_type": "display_data"
    }
   ],
   "source": [
    "plt.scatter(range(len(lists)), lists)\n",
    "#plt.plot(range(len(agent.sum_utility_list)), agent.sum_utility_list)"
   ]
  },
  {
   "cell_type": "code",
   "execution_count": 7,
   "metadata": {},
   "outputs": [],
   "source": [
    "def fun1():\n",
    "    point = [(0.1,0.1),(0.2,0.2),(0.3,0.3)]\n",
    "    i = 0\n",
    "    while True:\n",
    "            d_point = point[i if i<3 else 0]\n",
    "            i = i+1 if i<3 else 0\n",
    "            yield d_point"
   ]
  },
  {
   "cell_type": "code",
   "execution_count": 7,
   "metadata": {},
   "outputs": [],
   "source": [
    "g = fun1()"
   ]
  },
  {
   "cell_type": "code",
   "execution_count": 35,
   "metadata": {},
   "outputs": [
    {
     "data": {
      "text/plain": [
       "(0.3, 0.3)"
      ]
     },
     "execution_count": 35,
     "metadata": {},
     "output_type": "execute_result"
    }
   ],
   "source": [
    "next(g)"
   ]
  },
  {
   "cell_type": "code",
   "execution_count": 38,
   "metadata": {},
   "outputs": [
    {
     "name": "stdout",
     "output_type": "stream",
     "text": [
      "{0: 0.0719540894729063, 1: -0.4683830161446694, 2: 0.09624451411591207}\n",
      "{0: 0.0719540894729063, 1: -0.4683830161446694, 2: 0.09624451411591207}\n",
      "{0: 0.02003871896227851, 1: -0.5103188890031702, 2: -0.47512366474129025}\n",
      "105\n"
     ]
    },
    {
     "data": {
      "text/plain": [
       "<matplotlib.collections.PathCollection at 0x2a9d5df6fc8>"
      ]
     },
     "execution_count": 38,
     "metadata": {},
     "output_type": "execute_result"
    },
    {
     "data": {
      "image/png": "[encoded data removed]",
      "text/plain": [
       "<Figure size 432x288 with 1 Axes>"
      ]
     },
     "metadata": {
      "needs_background": "light"
     },
     "output_type": "display_data"
    }
   ],
   "source": [
    "lis = []\n",
    "for each1 in agent.Q.values():\n",
    "    for each2 in each1.values():\n",
    "        if(each2>0):\n",
    "            print(each1)\n",
    "        lis.append(each2)\n",
    "lis = np.array(lis)\n",
    "\n",
    "#print(len([0 for each in (lis > 0) if each==True]))\n",
    "print(len(lis))\n",
    "plt.scatter(range(len(lis)),lis)"
   ]
  }
 ],
 "metadata": {
  "file_extension": ".py",
  "kernelspec": {
   "display_name": "Python [conda env:tensorflow2.0]",
   "language": "python",
   "name": "conda-env-tensorflow2.0-py"
  },
  "language_info": {
   "codemirror_mode": {
    "name": "ipython",
    "version": 3
   },
   "file_extension": ".py",
   "mimetype": "text/x-python",
   "name": "python",
   "nbconvert_exporter": "python",
   "pygments_lexer": "ipython3",
   "version": "3.7.6"
  },
  "mimetype": "text/x-python",
  "name": "python",
  "npconvert_exporter": "python",
  "pygments_lexer": "ipython3",
  "version": 3
 },
 "nbformat": 4,
 "nbformat_minor": 2
}
